{
 "cells": [
  {
   "cell_type": "markdown",
   "id": "6094968b-7ef7-47c7-8061-e001b70941dc",
   "metadata": {},
   "source": [
    "# ALL DATA COV MATRIX CALCULATION AND PCA"
   ]
  },
  {
   "cell_type": "code",
   "execution_count": 1,
   "id": "fb60a88a-f7b7-4aae-ace9-fc5155834ad3",
   "metadata": {},
   "outputs": [],
   "source": [
    "import scipy.sparse as sp\n",
    "import pandas as pd\n",
    "import numpy as np\n",
    "\n",
    "\n",
    "data = pd.read_csv('select.freq.filtered', delimiter='\\t', header=None)\n",
    "\n",
    "locations = data[0]  # locations ar1_10.2\n",
    "alleles = data[1]  # A, C, G, T\n",
    "\n",
    "freq_data = sp.csr_matrix(data.iloc[:, 2:].values)  \n"
   ]
  },
  {
   "cell_type": "code",
   "execution_count": 2,
   "id": "fef154f6-f594-485b-adcc-11cd057062c6",
   "metadata": {},
   "outputs": [],
   "source": [
    "mean_freq = freq_data.mean(axis=1).reshape(-1, 1)"
   ]
  },
  {
   "cell_type": "code",
   "execution_count": 3,
   "id": "1f6e6464-0158-407e-8240-39d65fcac17c",
   "metadata": {},
   "outputs": [
    {
     "name": "stdout",
     "output_type": "stream",
     "text": [
      "256\n"
     ]
    }
   ],
   "source": [
    "print(len(mean_freq))"
   ]
  },
  {
   "cell_type": "code",
   "execution_count": 4,
   "id": "cc5749fc-9f41-40d3-a79b-cbeaed05813c",
   "metadata": {},
   "outputs": [],
   "source": [
    "from scipy.sparse import save_npz\n",
    "\n",
    "# save\n",
    "save_npz('freq_data.npz', freq_data)\n",
    "\n"
   ]
  },
  {
   "cell_type": "code",
   "execution_count": 5,
   "id": "316f5645-231a-4848-9d19-a02c4fd01eb3",
   "metadata": {},
   "outputs": [
    {
     "name": "stdout",
     "output_type": "stream",
     "text": [
      "Combined Data shape: (64, 1150852)\n"
     ]
    }
   ],
   "source": [
    "import numpy as np\n",
    "from scipy.sparse import load_npz\n",
    "\n",
    "freq_data = sp.csr_matrix(data.iloc[:, 2:].values)  \n",
    "\n",
    "dense_data = freq_data.toarray()\n",
    "\n",
    "\n",
    "num_locations = dense_data.shape[0] // 4\n",
    "\n",
    "# combine by summing\n",
    "combined_data = dense_data.reshape(num_locations, 4, -1).sum(axis=1)\n",
    "\n",
    "print(f\"Combined Data shape: {combined_data.shape}\")\n"
   ]
  },
  {
   "cell_type": "code",
   "execution_count": 6,
   "id": "2bc8129e-7b88-4a72-a8cb-dc03aeaad03f",
   "metadata": {},
   "outputs": [
    {
     "name": "stdout",
     "output_type": "stream",
     "text": [
      "64\n",
      "[[  2  26   5 ...  14   8 237]\n",
      " [  2  18   0 ...  48   3 768]\n",
      " [  0   2   0 ...   2   1  53]\n",
      " ...\n",
      " [  8   0   0 ...   4   0  62]\n",
      " [  0   0   0 ...   0   0   0]\n",
      " [  0   0   0 ...   0   0   0]]\n"
     ]
    }
   ],
   "source": [
    "print(len(combined_data))\n",
    "print(combined_data)"
   ]
  },
  {
   "cell_type": "code",
   "execution_count": 7,
   "id": "3e72ef90-b7dd-4d04-b2b9-942145a774e4",
   "metadata": {},
   "outputs": [],
   "source": [
    "cd=pd.DataFrame(combined_data)"
   ]
  },
  {
   "cell_type": "code",
   "execution_count": 8,
   "id": "a0bd2595-23a9-45b0-bc32-fbf33b5899bf",
   "metadata": {},
   "outputs": [
    {
     "name": "stdout",
     "output_type": "stream",
     "text": [
      "    0        1        2        3        4        5        6        7        \\\n",
      "0         2       26        5        7       33       13        1        0   \n",
      "1         2       18        0        2       15        2        0        0   \n",
      "2         0        2        0        0        1        1        2        0   \n",
      "3         0        6        4        1        6        2        0        1   \n",
      "4         0        6        1        5       14        5        0        1   \n",
      "..      ...      ...      ...      ...      ...      ...      ...      ...   \n",
      "59        7        3        3        3        7        1        4        1   \n",
      "60        1        0        1        1        1        0        1        0   \n",
      "61        8        0        0        2        2        0        0        2   \n",
      "62        0        0        0        0        0        0        0        0   \n",
      "63        0        0        0        0        0        0        0        0   \n",
      "\n",
      "    8        9        ...  1150842  1150843  1150844  1150845  1150846  \\\n",
      "0        10       23  ...        1       14      525        8       14   \n",
      "1         6        9  ...        0        4     1561        4        4   \n",
      "2         1        2  ...        0        1      117        1        0   \n",
      "3         4        5  ...        1        3      492        1        0   \n",
      "4         2       11  ...        2        7      423        7        1   \n",
      "..      ...      ...  ...      ...      ...      ...      ...      ...   \n",
      "59        0       15  ...       10        6      441        5        4   \n",
      "60        0        0  ...        0        1      401        0        0   \n",
      "61        1        2  ...        0        0      125        0        0   \n",
      "62        0        0  ...        0        0        0        0        0   \n",
      "63        0        0  ...        0        0        0        0        0   \n",
      "\n",
      "    1150847  1150848  1150849  1150850  1150851  \n",
      "0        99      913       14        8      237  \n",
      "1       307     2763       48        3      768  \n",
      "2        26      220        2        1       53  \n",
      "3        98      828       16        1      233  \n",
      "4        84      820       10        7      209  \n",
      "..      ...      ...      ...      ...      ...  \n",
      "59       55      839       15        5      161  \n",
      "60       45      754       17        0      131  \n",
      "61       28      204        4        0       62  \n",
      "62        0        0        0        0        0  \n",
      "63        0        0        0        0        0  \n",
      "\n",
      "[64 rows x 1150852 columns]\n"
     ]
    }
   ],
   "source": [
    "print(cd)"
   ]
  },
  {
   "cell_type": "code",
   "execution_count": 9,
   "id": "d1888d89-ee4d-4dd8-928f-80d3bfacdd6e",
   "metadata": {},
   "outputs": [],
   "source": [
    "cd_sparse = sp.csr_matrix(combined_data)  "
   ]
  },
  {
   "cell_type": "code",
   "execution_count": 10,
   "id": "89645174-78d3-4a32-b295-28f2900a5b54",
   "metadata": {},
   "outputs": [],
   "source": [
    "# save\n",
    "cov_matrix = (cd_sparse @ cd_sparse.T) / (cd_sparse.T.shape[0] - 1)\n",
    "save_npz('cov_matrix.npz', cov_matrix)\n"
   ]
  },
  {
   "cell_type": "code",
   "execution_count": 11,
   "id": "0589abcf-7cc6-4595-b2aa-5189e5f9d254",
   "metadata": {},
   "outputs": [
    {
     "name": "stdout",
     "output_type": "stream",
     "text": [
      "  (0, 0)\t7418.638378035037\n",
      "  (0, 1)\t281.54947078292497\n",
      "  (0, 2)\t83.1689523665531\n",
      "  (0, 3)\t138.7054640435643\n",
      "  (0, 4)\t272.5414523687254\n",
      "  (0, 5)\t269.7632299924143\n",
      "  (0, 6)\t29.711636866979305\n",
      "  (0, 7)\t48.7894618851615\n",
      "  (0, 8)\t31.315218911918222\n",
      "  (0, 9)\t181.3734870978085\n",
      "  (0, 11)\t32.06983093380464\n",
      "  (0, 12)\t190.79289412791056\n",
      "  (0, 13)\t120.45026072011059\n",
      "  (0, 14)\t130.78279812069502\n",
      "  (0, 15)\t66.91906771597714\n",
      "  (0, 16)\t440.7237409534336\n",
      "  (0, 17)\t166.5199621845052\n",
      "  (0, 18)\t209.7588541001398\n",
      "  (0, 20)\t67.90968335605565\n",
      "  (0, 21)\t582.5025985118838\n",
      "  (0, 22)\t484.0244784077174\n",
      "  (0, 23)\t161.62408165783407\n",
      "  (0, 24)\t169.388987801201\n",
      "  (0, 25)\t315.1535576716708\n",
      "  (0, 26)\t594.166102301688\n",
      "  :\t:\n",
      "  (63, 36)\t0.0026580330555389014\n",
      "  (63, 37)\t0.001998521094390151\n",
      "  (63, 38)\t0.004441930362835849\n",
      "  (63, 39)\t0.00037102978578460637\n",
      "  (63, 40)\t0.08741618159084016\n",
      "  (63, 41)\t0.0001312072544577882\n",
      "  (63, 42)\t0.004257718853265974\n",
      "  (63, 43)\t0.0006464781279244663\n",
      "  (63, 44)\t0.0012608061338956998\n",
      "  (63, 45)\t0.000507450573532108\n",
      "  (63, 46)\t0.0001181734212335046\n",
      "  (63, 47)\t8.254761042046277e-05\n",
      "  (63, 48)\t0.0008515437706531949\n",
      "  (63, 49)\t0.001946385761493017\n",
      "  (63, 50)\t0.002130597271062892\n",
      "  (63, 52)\t0.001000129469410028\n",
      "  (63, 54)\t0.008491107884513287\n",
      "  (63, 55)\t0.000782898915671968\n",
      "  (63, 56)\t0.0019124977951098796\n",
      "  (63, 57)\t0.016202792542214413\n",
      "  (63, 58)\t0.0003606027192051795\n",
      "  (63, 59)\t0.0010461823468024965\n",
      "  (63, 60)\t0.0009184507812045173\n",
      "  (63, 61)\t0.0016431319084746852\n",
      "  (63, 63)\t1.2164911009331355e-05\n"
     ]
    }
   ],
   "source": [
    "print(cov_matrix)"
   ]
  },
  {
   "cell_type": "code",
   "execution_count": null,
   "id": "3d532c7a-e6c6-40d0-ae44-59b0aafdb650",
   "metadata": {},
   "outputs": [],
   "source": []
  },
  {
   "cell_type": "code",
   "execution_count": 12,
   "id": "6e8a7ce9-a74e-40a5-870b-93919bca5b7f",
   "metadata": {
    "scrolled": false
   },
   "outputs": [
    {
     "name": "stdout",
     "output_type": "stream",
     "text": [
      "eigenvectors： [4328774.99137426 1766937.58514663 1161491.03296366  443426.31985016\n",
      "  166153.10002446  153558.5124637 ]\n",
      "eigenvalues：\n",
      " [[ 1.15792651e-03  5.72018763e-04  1.03647555e-03 -2.73339214e-03\n",
      "   6.30318836e-03  9.00555662e-03]\n",
      " [ 3.05464766e-03  3.78330796e-03  1.03418301e-01  8.05813684e-04\n",
      "   2.49953880e-03  2.71858412e-03]\n",
      " [ 5.42294127e-04  4.88785323e-04  4.01826411e-04 -1.22643099e-03\n",
      "   1.59450496e-03  1.65400713e-03]\n",
      " [ 1.57800297e-03  2.20459825e-04  4.57725465e-04 -1.17060659e-03\n",
      "   2.92024276e-03  2.72433496e-03]\n",
      " [ 8.98554324e-04  4.09564066e-04  6.04804087e-04 -2.24165456e-03\n",
      "   4.44708696e-03  4.99884330e-03]\n",
      " [ 6.83971011e-04  3.88660385e-04  9.22956185e-04 -2.58987650e-03\n",
      "   1.50385137e-02  2.25061681e-02]\n",
      " [ 1.39238024e-03  5.40605180e-04  3.81945604e-05 -2.04116667e-04\n",
      "   1.36548731e-03  6.85449404e-04]\n",
      " [ 6.35197477e-04  4.20227567e-04  1.55452987e-04 -9.76623445e-03\n",
      "   6.13504819e-04  6.84215091e-04]\n",
      " [ 5.97714370e-04  2.72526788e-04  1.86262311e-04 -6.50016207e-04\n",
      "   4.65238525e-03  6.90001461e-03]\n",
      " [ 7.58114785e-04  3.39023400e-04  4.90670772e-04 -1.33450734e-03\n",
      "   2.89366155e-03  3.26885133e-03]\n",
      " [-2.11980148e-17  1.66400398e-17  3.88034681e-18 -4.33399705e-19\n",
      "  -2.91158562e-17 -2.42259469e-18]\n",
      " [ 1.68111753e-03  6.61332925e-04  3.88681272e-05 -3.73871674e-04\n",
      "   8.36414145e-03  2.81585199e-02]\n",
      " [ 3.72829755e-03  1.59722250e-03  9.22320321e-04 -3.23015441e-03\n",
      "   1.21511382e-02  8.91128794e-03]\n",
      " [ 7.97329591e-03  2.95664440e-03 -5.16787822e-05 -5.70998008e-04\n",
      "   6.58212937e-03  2.83147659e-03]\n",
      " [ 4.10961935e-04  9.67671904e-05  3.98015734e-04 -1.05120745e-03\n",
      "   1.87245785e-03  2.17925796e-03]\n",
      " [ 1.31096680e-04  1.00623183e-04  1.85061527e-04 -5.55403880e-04\n",
      "   9.01625127e-04  1.14189790e-03]\n",
      " [ 1.32059073e-02 -1.81888609e-02  1.09297249e-03 -1.64687177e-03\n",
      "  -1.60870436e-03  8.85596243e-03]\n",
      " [ 1.07162514e-02  3.99833920e-03 -3.63702292e-05 -8.66987312e-04\n",
      "   8.97130332e-03  3.89304261e-03]\n",
      " [ 3.48992077e-04  1.08826425e-04  7.49918511e-04 -1.78522267e-03\n",
      "   3.61384794e-03  4.43774929e-03]\n",
      " [-1.28071411e-17  1.32551135e-17  3.56239377e-18 -3.88587349e-18\n",
      "  -2.25893571e-17  2.26377787e-19]\n",
      " [ 5.70493523e-03  1.65366483e-02 -3.15360095e-04  7.48223257e-04\n",
      "  -2.63360220e-03  1.62161757e-03]\n",
      " [ 7.78715913e-03  3.91968717e-03  2.98373494e-03 -1.09184111e-02\n",
      "   8.68452573e-01 -2.27055347e-01]\n",
      " [ 1.95504212e-03  2.27843989e-03  2.45452265e-03 -1.57360264e-01\n",
      "   7.55120076e-04  2.80960337e-03]\n",
      " [ 1.47333219e-03  4.78702380e-04  3.57221528e-04 -1.16038394e-03\n",
      "   2.52952972e-02  9.79620081e-02]\n",
      " [ 9.62236907e-04  1.12393259e-03  1.25046833e-03 -8.31265177e-02\n",
      "  -5.10498453e-04  4.21344228e-05]\n",
      " [ 1.70466448e-03  2.59686075e-04  8.32955353e-04 -2.00139765e-03\n",
      "   5.12104599e-03  5.54845126e-03]\n",
      " [ 8.32717083e-02 -6.82890257e-02  1.52033807e-03 -1.63972617e-03\n",
      "  -4.33509539e-03  1.04295253e-02]\n",
      " [ 1.31691610e-11  3.73761742e-11  1.34443988e-12 -9.56832823e-11\n",
      "   1.82059081e-11  1.31796756e-10]\n",
      " [ 1.47611457e-06  7.91378942e-07  9.76399177e-07 -3.29788854e-06\n",
      "   1.69278411e-04 -4.26302093e-05]\n",
      " [ 1.81064536e-03  7.10787578e-04  7.32815813e-05 -3.42396962e-04\n",
      "   1.86573165e-03  1.03100284e-03]\n",
      " [ 1.33105961e-02  6.01371869e-03  2.75805004e-03 -9.24025198e-03\n",
      "   3.50705106e-02  2.35519568e-02]\n",
      " [ 1.87113804e-07 -2.65164022e-07  3.69759540e-08 -5.36054434e-08\n",
      "   1.33407074e-08  1.64103671e-07]\n",
      " [ 2.87771745e-03  5.18864083e-03  1.84577163e-01  3.75624645e-04\n",
      "   3.99770784e-03  4.56879702e-03]\n",
      " [ 2.94465765e-04  1.25915631e-04  4.42797105e-05 -1.48506613e-04\n",
      "   4.22772968e-04  2.81793181e-04]\n",
      " [ 2.23752799e-03  1.40096580e-03  3.44504319e-03 -1.17136956e-02\n",
      "   1.76998102e-01  7.04949654e-01]\n",
      " [ 1.55719098e-02  3.81935607e-03  6.30704737e-04 -2.88224043e-03\n",
      "   1.46771168e-02  8.26475899e-03]\n",
      " [ 1.16382855e-03  6.35386994e-04  2.22413325e-03 -7.96381257e-03\n",
      "   1.12427686e-02  1.17469410e-02]\n",
      " [ 8.15535941e-03  3.17068038e-02 -2.45615630e-04 -1.89931750e-03\n",
      "  -3.61363803e-03  7.84524972e-03]\n",
      " [ 1.42221312e-03  9.04768170e-04  3.49251417e-03 -1.12284037e-02\n",
      "   5.04467820e-02  7.97758318e-02]\n",
      " [ 5.82208110e-04  3.31244188e-04  5.49198995e-04 -1.95079911e-03\n",
      "   2.38483223e-03  3.15718783e-03]\n",
      " [ 1.44189066e-03  7.00564394e-04  5.84171299e-04 -1.85649744e-03\n",
      "   6.25842680e-03  5.31047488e-03]\n",
      " [ 1.58079242e-03  6.08156739e-04  1.30983632e-05 -1.90926417e-04\n",
      "   1.36790092e-03  5.74791290e-04]\n",
      " [ 1.97516192e-03  1.11569258e-03  2.53314754e-03 -7.48282966e-03\n",
      "   1.24621873e-01  5.00474742e-01]\n",
      " [ 1.78516757e-03  6.81803080e-03 -9.44124517e-05 -2.58811049e-05\n",
      "  -1.00121304e-03  1.30104652e-03]\n",
      " [ 1.54026604e-03  1.19292935e-03  1.08301660e-03 -4.87150959e-02\n",
      "   1.79013197e-03  2.35545607e-03]\n",
      " [ 8.79383265e-04  2.20269061e-04  5.07494165e-04 -1.53672794e-03\n",
      "   2.64121652e-03  3.33984087e-03]\n",
      " [ 3.52185210e-04  1.49210482e-04  6.86824434e-05 -2.32626876e-04\n",
      "   5.89604813e-04  4.41022482e-04]\n",
      " [ 8.25564172e-04  3.17087729e-04  6.74012371e-05 -3.09564819e-04\n",
      "   1.71177911e-03  2.00922496e-03]\n",
      " [ 1.51641069e-02 -1.66381647e-02  9.16516854e-04 -2.04544501e-03\n",
      "  -1.87032253e-03  3.85606801e-03]\n",
      " [ 2.86072995e-04  4.43956388e-04  1.15492234e-03 -5.49630675e-02\n",
      "   6.15283431e-04  1.96213226e-03]\n",
      " [ 1.04274987e-03  2.60131561e-04  1.09240481e-03 -2.97376209e-03\n",
      "   4.59538027e-03  4.88987993e-03]\n",
      " [ 5.25886209e-10  4.64647188e-10  3.22140890e-09 -1.23480430e-08\n",
      "   2.15613187e-08  2.87740893e-08]\n",
      " [ 1.69565461e-02  6.44360204e-03  8.98591309e-04 -4.61914160e-03\n",
      "   8.32573935e-02  2.78453312e-01]\n",
      " [ 1.78587567e-09  1.89743310e-09  3.23906867e-08 -5.46223256e-08\n",
      "   1.10323317e-07  1.58372583e-07]\n",
      " [ 1.41764901e-02  1.75913491e-02  1.28057528e-02 -9.80487990e-01\n",
      "  -1.75401393e-02 -1.45466682e-02]\n",
      " [ 4.02566974e-03  2.34711666e-03  2.44651407e-02 -4.83921550e-04\n",
      "   3.71025336e-03  3.02386974e-03]\n",
      " [ 8.38550935e-04  5.61644853e-04  1.78325862e-03 -4.91707345e-03\n",
      "   7.61522775e-02  3.05018191e-01]\n",
      " [ 1.32181871e-02  3.04572327e-02  9.76321726e-01  1.43475003e-02\n",
      "  -5.96065728e-03 -5.49785475e-03]\n",
      " [ 4.38534972e-02  1.96875402e-02  1.27016331e-04 -4.23429603e-03\n",
      "   4.23399874e-01 -1.06907848e-01]\n",
      " [ 5.04757212e-01  8.59992518e-01 -3.43236705e-02  2.27669132e-02\n",
      "  -2.52434483e-02 -1.37032062e-03]\n",
      " [ 8.56993862e-01 -5.01989316e-01  3.51142534e-03  4.13448704e-03\n",
      "  -1.75686426e-02 -2.58609953e-03]\n",
      " [ 3.37532203e-04  8.91248626e-05  6.17470707e-04 -1.31885577e-03\n",
      "   2.26345466e-03  2.74181596e-03]\n",
      " [ 5.93293719e-18 -8.67116471e-18 -4.32614835e-18  3.61200108e-18\n",
      "   1.18507739e-17  4.50672166e-19]\n",
      " [ 2.26689686e-09  2.63681171e-09  1.61148010e-08 -3.30540852e-08\n",
      "   1.63058902e-07  1.21514902e-07]]\n"
     ]
    }
   ],
   "source": [
    "import numpy as np \n",
    "from scipy.sparse.linalg import eigsh\n",
    "\n",
    "eigenvalues, eigenvectors = eigsh(cov_matrix, which='LM')  # largest ev\n",
    "\n",
    "sorted_indices = np.argsort(eigenvalues)[::-1]\n",
    "eigenvalues = eigenvalues[sorted_indices]\n",
    "eigenvectors = eigenvectors[:, sorted_indices]\n",
    "\n",
    "\n",
    "print(\"eigenvectors：\", eigenvalues)\n",
    "print(\"eigenvalues：\\n\", eigenvectors)"
   ]
  },
  {
   "cell_type": "code",
   "execution_count": 17,
   "id": "b00f8c98-8d89-4e8b-8d71-5457e9fb7609",
   "metadata": {},
   "outputs": [
    {
     "data": {
      "image/png": "[encoded data removed]",
      "text/plain": [
       "<Figure size 1000x600 with 1 Axes>"
      ]
     },
     "metadata": {},
     "output_type": "display_data"
    }
   ],
   "source": [
    "import matplotlib.pyplot as plt  \n",
    "explained_variance_ratio = eigenvalues / eigenvalues.sum()\n",
    "\n",
    "# Scree Plot\n",
    "plt.figure(figsize=(10, 6))\n",
    "plt.plot(range(1, len(eigenvalues) + 1), explained_variance_ratio, marker='o', linestyle='--', color='b')\n",
    "plt.title('Scree Plot')\n",
    "plt.xlabel('Principal Component')\n",
    "plt.ylabel('Explained Variance Ratio')\n",
    "plt.grid(True)\n",
    "plt.show()"
   ]
  },
  {
   "cell_type": "markdown",
   "id": "d4850a77-3c16-4265-a510-1f607af41b81",
   "metadata": {},
   "source": [
    "## choose first two PCs and rerun"
   ]
  },
  {
   "cell_type": "code",
   "execution_count": 18,
   "id": "da5b20bc-8d6b-4558-a2bb-6bead7622b29",
   "metadata": {},
   "outputs": [
    {
     "name": "stdout",
     "output_type": "stream",
     "text": [
      "eval： [4328774.99137425 1766937.58514663]\n",
      "evect：\n",
      " [[ 1.15792651e-03  5.72018763e-04]\n",
      " [ 3.05464766e-03  3.78330796e-03]\n",
      " [ 5.42294127e-04  4.88785323e-04]\n",
      " [ 1.57800297e-03  2.20459825e-04]\n",
      " [ 8.98554324e-04  4.09564066e-04]\n",
      " [ 6.83971011e-04  3.88660385e-04]\n",
      " [ 1.39238024e-03  5.40605180e-04]\n",
      " [ 6.35197477e-04  4.20227567e-04]\n",
      " [ 5.97714370e-04  2.72526788e-04]\n",
      " [ 7.58114785e-04  3.39023400e-04]\n",
      " [ 1.74263686e-18 -1.94690935e-17]\n",
      " [ 1.68111753e-03  6.61332925e-04]\n",
      " [ 3.72829755e-03  1.59722250e-03]\n",
      " [ 7.97329591e-03  2.95664440e-03]\n",
      " [ 4.10961935e-04  9.67671904e-05]\n",
      " [ 1.31096680e-04  1.00623183e-04]\n",
      " [ 1.32059073e-02 -1.81888609e-02]\n",
      " [ 1.07162514e-02  3.99833920e-03]\n",
      " [ 3.48992077e-04  1.08826425e-04]\n",
      " [ 3.08684044e-18 -9.88627375e-18]\n",
      " [ 5.70493523e-03  1.65366483e-02]\n",
      " [ 7.78715913e-03  3.91968717e-03]\n",
      " [ 1.95504212e-03  2.27843989e-03]\n",
      " [ 1.47333219e-03  4.78702380e-04]\n",
      " [ 9.62236907e-04  1.12393259e-03]\n",
      " [ 1.70466448e-03  2.59686075e-04]\n",
      " [ 8.32717083e-02 -6.82890257e-02]\n",
      " [ 1.31691403e-11  3.73761976e-11]\n",
      " [ 1.47611457e-06  7.91378942e-07]\n",
      " [ 1.81064536e-03  7.10787578e-04]\n",
      " [ 1.33105961e-02  6.01371869e-03]\n",
      " [ 1.87113804e-07 -2.65164022e-07]\n",
      " [ 2.87771745e-03  5.18864083e-03]\n",
      " [ 2.94465765e-04  1.25915631e-04]\n",
      " [ 2.23752799e-03  1.40096580e-03]\n",
      " [ 1.55719098e-02  3.81935607e-03]\n",
      " [ 1.16382855e-03  6.35386994e-04]\n",
      " [ 8.15535941e-03  3.17068038e-02]\n",
      " [ 1.42221312e-03  9.04768170e-04]\n",
      " [ 5.82208110e-04  3.31244188e-04]\n",
      " [ 1.44189066e-03  7.00564394e-04]\n",
      " [ 1.58079242e-03  6.08156739e-04]\n",
      " [ 1.97516192e-03  1.11569258e-03]\n",
      " [ 1.78516757e-03  6.81803080e-03]\n",
      " [ 1.54026604e-03  1.19292935e-03]\n",
      " [ 8.79383265e-04  2.20269061e-04]\n",
      " [ 3.52185210e-04  1.49210482e-04]\n",
      " [ 8.25564172e-04  3.17087729e-04]\n",
      " [ 1.51641069e-02 -1.66381647e-02]\n",
      " [ 2.86072995e-04  4.43956388e-04]\n",
      " [ 1.04274987e-03  2.60131561e-04]\n",
      " [ 5.25886221e-10  4.64647133e-10]\n",
      " [ 1.69565461e-02  6.44360204e-03]\n",
      " [ 1.78587568e-09  1.89743312e-09]\n",
      " [ 1.41764901e-02  1.75913491e-02]\n",
      " [ 4.02566974e-03  2.34711666e-03]\n",
      " [ 8.38550935e-04  5.61644853e-04]\n",
      " [ 1.32181871e-02  3.04572327e-02]\n",
      " [ 4.38534972e-02  1.96875402e-02]\n",
      " [ 5.04757212e-01  8.59992518e-01]\n",
      " [ 8.56993862e-01 -5.01989316e-01]\n",
      " [ 3.37532203e-04  8.91248626e-05]\n",
      " [-7.37009381e-20  1.32297543e-17]\n",
      " [ 2.26689685e-09  2.63681167e-09]]\n"
     ]
    }
   ],
   "source": [
    "import numpy as np\n",
    "from scipy.sparse.linalg import eigsh\n",
    "\n",
    "eigenvalues, eigenvectors = eigsh(cov_matrix, k = 2, which='LM')  \n",
    "\n",
    "# 3. 排序特征值和特征向量（按特征值降序）\n",
    "sorted_indices = np.argsort(eigenvalues)[::-1]\n",
    "eigenvalues = eigenvalues[sorted_indices]\n",
    "eigenvectors = eigenvectors[:, sorted_indices]\n",
    "\n",
    "\n",
    "print(\"eval：\", eigenvalues)\n",
    "print(\"evect：\\n\", eigenvectors)"
   ]
  },
  {
   "cell_type": "code",
   "execution_count": 19,
   "id": "9da43a00-6f55-4cd0-9186-cc9f846f4ed0",
   "metadata": {},
   "outputs": [],
   "source": [
    "projected_data = cd.T.dot(eigenvectors)"
   ]
  },
  {
   "cell_type": "code",
   "execution_count": 20,
   "id": "4a61c537-703a-43e6-bbff-3624820c6449",
   "metadata": {},
   "outputs": [],
   "source": [
    "np.save('projected_data_combined.npy', projected_data)\n"
   ]
  },
  {
   "cell_type": "code",
   "execution_count": 22,
   "id": "4e8d87fc-b7c8-4a53-9807-a01d82ce4689",
   "metadata": {},
   "outputs": [
    {
     "data": {
      "image/png": "[encoded data removed]",
      "text/plain": [
       "<Figure size 1000x600 with 1 Axes>"
      ]
     },
     "metadata": {},
     "output_type": "display_data"
    }
   ],
   "source": [
    "projected_data_np = projected_data.to_numpy()  \n",
    "plt.figure(figsize=(10, 6))\n",
    "plt.scatter(projected_data_np[:, 0], projected_data_np[:, 1], alpha=0.7)\n",
    "plt.xlabel('Principal Component 1')\n",
    "plt.ylabel('Principal Component 2')\n",
    "plt.title('PCA Result: First Two Principal Components')\n",
    "plt.grid(True)\n",
    "plt.show()"
   ]
  },
  {
   "cell_type": "code",
   "execution_count": null,
   "id": "4d4d7f00-e593-46d0-8bb6-bb600b7a4f74",
   "metadata": {},
   "outputs": [],
   "source": []
  }
 ],
 "metadata": {
  "kernelspec": {
   "display_name": "Python 3 (ipykernel)",
   "language": "python",
   "name": "python3"
  },
  "language_info": {
   "codemirror_mode": {
    "name": "ipython",
    "version": 3
   },
   "file_extension": ".py",
   "mimetype": "text/x-python",
   "name": "python",
   "nbconvert_exporter": "python",
   "pygments_lexer": "ipython3",
   "version": "3.9.13"
  }
 },
 "nbformat": 4,
 "nbformat_minor": 5
}
